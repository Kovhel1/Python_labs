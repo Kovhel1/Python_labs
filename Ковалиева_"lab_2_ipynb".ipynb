{
  "nbformat": 4,
  "nbformat_minor": 0,
  "metadata": {
    "kernelspec": {
      "display_name": "Python 3",
      "language": "python",
      "name": "python3"
    },
    "language_info": {
      "codemirror_mode": {
        "name": "ipython",
        "version": 3
      },
      "file_extension": ".py",
      "mimetype": "text/x-python",
      "name": "python",
      "nbconvert_exporter": "python",
      "pygments_lexer": "ipython3",
      "version": "3.7.3"
    },
    "colab": {
      "name": "Ковалиева \"lab 2.ipynb\"",
      "provenance": []
    }
  },
  "cells": [
    {
      "cell_type": "markdown",
      "metadata": {
        "id": "Yftj8QM4cjvx"
      },
      "source": [
        "# Лабораторная работа 2. Циклы и списки."
      ]
    },
    {
      "cell_type": "markdown",
      "metadata": {
        "id": "G7PjtI8_cjwR"
      },
      "source": [
        "# Упражнение 4. $\\pi$"
      ]
    },
    {
      "cell_type": "markdown",
      "metadata": {
        "id": "Sx4IeRW5cjwR"
      },
      "source": [
        "Число Пи - несомненно, одна из основных констант, значение которой было известно еще в древности. Оно используется везде, от кройки и шитья до расчетов гармонических колебаний в физике и радиотехнике.\n",
        "\n",
        "Но чему она равна? Есть ли у этого числа какая-то внутренняя структура, неизвестная закономерность? Узнать это хотели многие. Самый простой и очевидный способ - взять и измерить. Примерно так вероятно и поступали в древности, точность разумеется была невысокой. Еще в древнем Вавилоне значение числа Пи было известно как 25/8. Затем Архимед предложил первый математический метод вычисления числа Пи, с помощью расчета вписанных в круг многоугольников. Это позволяло вычислять значение не «напрямую», с циркулем и линейкой, а математически, что обеспечивало гораздо большую точность. И наконец в 3-м веке нашей эры китайский математик Лю Хуэй придумал первый итерационный алгоритм — алгоритм, в котором число вычисляется не одной формулой, а последовательностью шагов (итераций), где каждая последующая итерация увеличивает точность.\n",
        "\n",
        "Кроме того, число Пи является иррациональным: оно не может быть выражено с помощью дроби вида m/n. Это было доказано только в 1761 году. Число Пи является трансцендентным: оно не является корнем какого-либо уравнения с целочисленными коэффициентами. Это было доказано в 1882 году. Число Пи является бесконечным. Интересное следствие предыдущего пункта: в числе Пи можно найти практически любое число, например свой собственный номер телефона, вопрос лишь в длине последовательности которую придется просмотреть.\n",
        "\n",
        "Перейдем к формулам вычисления $\\pi$:\n",
        "\n",
        "Формула Мадхавы-Лейбница (15 век):\n",
        "\n",
        "$$\\frac{1}{1} - \\frac{1}{3} + \\frac{1}{5} - \\frac{1}{7} + \\frac{1}{9} - ... = \\frac{\\pi}{4}$$\n",
        "\n",
        "Формула Валлиса (17 век):\n",
        "\n",
        "$$\\frac{2}{1} * \\frac{2}{3} * \\frac{4}{3} * \\frac{4}{5} * \\frac{6}{5} * \\frac{6}{7} * \\frac{8}{7} * \\frac{8}{9} ... = \\frac{\\pi}{2}$$\n",
        "\n",
        "Напишите программу вычисляющее значение числа $\\pi$ по этим формулам первые n итераций. Выводите все итерации и текущее значение числа $\\pi$ с 10 знаками после запятой в следующеем формате:\n",
        "\n",
        "Номер итерации  ф. Мадхавы-Лейбница  ф. Валлиса"
      ]
    },
    {
      "cell_type": "code",
      "metadata": {
        "id": "fnh44W2ccjwR",
        "colab": {
          "base_uri": "https://localhost:8080/"
        },
        "outputId": "b1604a59-a9ee-4f91-dd6c-b4a2c89d0b6d"
      },
      "source": [
        "n_iter = 1000\n",
        "numerator = 2\n",
        "denominator = 1\n",
        "half_pi = 1\n",
        "flag_n = 0\n",
        "flag_d = 1\n",
        "\n",
        "for i in range(1,n_iter,1):\n",
        "  if (flag_n == 2):\n",
        "    numerator += 2\n",
        "    flag_n = 0\n",
        "  if (flag_d == 2):\n",
        "    denominator += 2\n",
        "    flag_d = 0\n",
        "  half_pi *= (numerator/denominator)\n",
        "  flag_d += 1\n",
        "  flag_n += 1\n",
        "  #print(half_pi*2)\n",
        "\n",
        "print(half_pi*2)"
      ],
      "execution_count": null,
      "outputs": [
        {
          "output_type": "stream",
          "name": "stdout",
          "text": [
            "3.143163842419187\n"
          ]
        }
      ]
    },
    {
      "cell_type": "markdown",
      "metadata": {
        "id": "UhSoNjvmcjwR"
      },
      "source": [
        "# Домашнее задание (базовое):"
      ]
    },
    {
      "cell_type": "markdown",
      "metadata": {
        "id": "_Tx1z1jUcjwR"
      },
      "source": [
        "# Задание 1. Счастливое число"
      ]
    },
    {
      "cell_type": "markdown",
      "metadata": {
        "id": "gQnEuNy1cjwS"
      },
      "source": [
        "Дано четырехзначное число. Определите, является ли его десятичная запись симметричной. Если число симметричное, то выведите 1, иначе выведите любое другое целое число. Число может иметь меньше четырех знаков, тогда нужно считать, что его десятичная запись дополняется слева нулями."
      ]
    },
    {
      "cell_type": "code",
      "metadata": {
        "id": "5VVJu9pYcjwS",
        "colab": {
          "base_uri": "https://localhost:8080/",
          "height": 35
        },
        "outputId": "b058aed2-52b8-4c01-906d-fb7421b225fe"
      },
      "source": [
        "#num = input(\"Введите число: \")\n",
        "num = '456.654'\n",
        "\n",
        "def is_simmetric(num):\n",
        "\n",
        "  num = list(num)\n",
        "  if num.count('.') > 0:\n",
        "    num.remove('.') \n",
        "  if num.count(',') > 0:\n",
        "    num.remove(',') \n",
        "  \n",
        "  length = len(num) \n",
        "  if length < 4:\n",
        "    while(length != 4):\n",
        "      num.append(0)\n",
        "      length = len(num)\n",
        "  \n",
        "  if length%2 != 0:\n",
        "    middle = length/2 - 0.5\n",
        "  else: \n",
        "    middle = length/2 \n",
        "\n",
        "\n",
        "  middle = int(middle)\n",
        "  for i in range(middle):\n",
        "    if int(num[i]) == int(num[length - i - 1]):\n",
        "      continue\n",
        "    else:\n",
        "      return '0 (не симметричное)'\n",
        "\n",
        "  return '1 (симметричное)'\n",
        "\n",
        "is_simmetric(num)\n",
        "\n",
        "\n"
      ],
      "execution_count": null,
      "outputs": [
        {
          "output_type": "execute_result",
          "data": {
            "application/vnd.google.colaboratory.intrinsic+json": {
              "type": "string"
            },
            "text/plain": [
              "'1 (симметричное)'"
            ]
          },
          "metadata": {},
          "execution_count": 59
        }
      ]
    },
    {
      "cell_type": "markdown",
      "metadata": {
        "id": "2Xr2Rxl7cjwS"
      },
      "source": [
        "# Задание 2. Високосный год"
      ]
    },
    {
      "cell_type": "markdown",
      "metadata": {
        "id": "7_Mz2d5YcjwT"
      },
      "source": [
        "Дано натуральное число. Требуется определить, является ли год с данным номером високосным. Если год является високосным, то выведите YES, иначе выведите NO. Напомним, что в соответствии с григорианским календарем, год является високосным, если его номер кратен 4, но не кратен 100, или же если он кратен 400."
      ]
    },
    {
      "cell_type": "code",
      "metadata": {
        "id": "LkoyeowicjwT",
        "colab": {
          "base_uri": "https://localhost:8080/"
        },
        "outputId": "02291408-5c04-4939-8001-2e1fbe7d8105"
      },
      "source": [
        "#num = int(input(\"Введите год: \"))\n",
        "num = int('2021')\n",
        "\n",
        "if (num%4 == 0 and num%100 != 0) or num%400 == 0:\n",
        "  print(\"YES\")\n",
        "else:\n",
        "  print(\"NO\")"
      ],
      "execution_count": null,
      "outputs": [
        {
          "output_type": "stream",
          "name": "stdout",
          "text": [
            "NO\n"
          ]
        }
      ]
    },
    {
      "cell_type": "markdown",
      "metadata": {
        "id": "mqq6lAsQcjwT"
      },
      "source": [
        "# Задание 3. Коровы"
      ]
    },
    {
      "cell_type": "markdown",
      "metadata": {
        "id": "Bcg1_0kKcjwT"
      },
      "source": [
        "Для целого числа n введённого пользователем закончите фразу “На лугу пасется...” одним из возможных продолжений: “n коров”, “n корова”, “n коровы”, правильно склоняя слово “корова”."
      ]
    },
    {
      "cell_type": "code",
      "metadata": {
        "id": "yyT1go-acjwU",
        "colab": {
          "base_uri": "https://localhost:8080/"
        },
        "outputId": "b1ae555f-b07a-4369-a05b-975a842ed86b"
      },
      "source": [
        "#num_cows = input(\"Введите год: \"))\n",
        "cows = '2026'\n",
        "num_cows = list(cows)\n",
        "\n",
        "if num_cows.count('.') > 0 or num_cows.count(',') > 0:\n",
        "  flag = 1\n",
        "else:\n",
        "  flag =0\n",
        "\n",
        "num_cows = int(num_cows[-1])\n",
        "end =''\n",
        "if flag == 0:\n",
        "  if num_cows == 1:\n",
        "    end = 'a'\n",
        "  elif  num_cows == 2 or num_cows == 3 or num_cows == 4:\n",
        "    end = 'ы'\n",
        "  elif  num_cows == 5 or num_cows == 6 or num_cows == 7 or num_cows == 8 or num_cows == 9 or num_cows == 0 :\n",
        "    end = ''\n",
        "else:\n",
        "    end = 'ы...за что так с коровой :('\n",
        "\n",
        "print('Количество коров: ' + cows + ' коров' + end)\n",
        " \n"
      ],
      "execution_count": null,
      "outputs": [
        {
          "output_type": "stream",
          "name": "stdout",
          "text": [
            "Количество коров: 2026 коров\n"
          ]
        }
      ]
    },
    {
      "cell_type": "markdown",
      "metadata": {
        "id": "D4z2aJ8EcjwU"
      },
      "source": [
        "# Задание 4. Минимальный делитель"
      ]
    },
    {
      "cell_type": "markdown",
      "metadata": {
        "id": "gRMwRDBEcjwU"
      },
      "source": [
        "Дано целое число, не меньшее 2. Выведите его наименьший натуральный делитель, отличный от 1. \n",
        "Напишите программу в 2-х вариантах - с помощью цикла for и while."
      ]
    },
    {
      "cell_type": "code",
      "metadata": {
        "id": "tACgJNQRcjwU",
        "colab": {
          "base_uri": "https://localhost:8080/"
        },
        "outputId": "9cfb256f-fb22-4b17-836b-cde241b4969e"
      },
      "source": [
        "n = 13\n",
        "min_divider1 = 1\n",
        "min_divider2 = 1\n",
        "remainder = 1\n",
        "\n",
        "while remainder !=0:\n",
        "  min_divider1 += 1\n",
        "  remainder = n%min_divider1\n",
        "\n",
        "for i in range(2,n+1,1):\n",
        "  if n%i == 0:\n",
        "    min_divider2 = i\n",
        "    break\n",
        "\n",
        "if(min_divider1 == min_divider2):\n",
        "  min_divider = min_divider1\n",
        "  print(min_divider)\n",
        "else:\n",
        "  print('error')"
      ],
      "execution_count": null,
      "outputs": [
        {
          "output_type": "stream",
          "name": "stdout",
          "text": [
            "13\n"
          ]
        }
      ]
    },
    {
      "cell_type": "markdown",
      "metadata": {
        "id": "bZqFpD7-cjwU"
      },
      "source": [
        "# Задание 5. Последовательность"
      ]
    },
    {
      "cell_type": "markdown",
      "metadata": {
        "id": "k6vVHgO5cjwV"
      },
      "source": [
        "Программа получает на вход последовательность целых неотрицательных чисел, каждое число записано в отдельной строке. Последовательность завершается числом 0, при считывании которого программа должна закончить свою работу и вывести количество членов последовательности (не считая завершающего числа 0).\n",
        "После завершения ввода данных программа запрашивает пользователя какую операцию с ними нужно выполнить:\n",
        "\n",
        "1. Найти сумму введённых чисел.\n",
        "2. Найти произведение введённых чисел.\n",
        "3. Найти среднее значение введённых чисел.\n",
        "4. Найти максимальное из введённых чисел.\n",
        "5. Найти минимальное из введённых чисел.\n",
        "6. Определить количество чётных и нечётных эллементов.\n",
        "\n",
        "После получения ответа от пользователя программа выполняет расчёт и выводит результат."
      ]
    },
    {
      "cell_type": "code",
      "metadata": {
        "id": "dcstRMjKcjwV",
        "colab": {
          "base_uri": "https://localhost:8080/"
        },
        "outputId": "c38dd640-345f-4e40-8705-13615c8b67ce"
      },
      "source": [
        "import numpy as np #для пункта 2\n",
        "\n",
        "new_num = ''\n",
        "num_arr = list()\n",
        "while(new_num != '0'):\n",
        "  new_num = input(\"Введите число. Чтобы закончить ввод, введите 0: \")\n",
        "  num_arr.append(float(new_num))\n",
        "\n",
        "num_arr.remove(0) \n",
        "length = len(num_arr)\n",
        "print(num_arr, length)\n",
        "\n",
        "operation = int(input('Введите действие(1-6): '))\n",
        "if(operation == 1):\n",
        "  print(sum(num_arr))\n",
        "elif(operation == 2):\n",
        "  print(np.prod(num_arr))\n",
        "elif(operation == 3):\n",
        "  print(sum(num_arr)/length)\n",
        "elif(operation == 4):\n",
        "  print(max(num_arr))\n",
        "elif(operation == 5):\n",
        "  print(min(num_arr))\n",
        "elif(operation == 6):\n",
        "  odd = even = 0\n",
        "  for i in num_arr:\n",
        "    if(i%2==0):\n",
        "      even += 1\n",
        "    else:\n",
        "      odd += 1\n",
        "  print('четных чисел: %d нечетных чисел: %d' %(even, odd))\n",
        "else:\n",
        "  print('Такой операции нет')"
      ],
      "execution_count": null,
      "outputs": [
        {
          "output_type": "stream",
          "name": "stdout",
          "text": [
            "Введите число. Чтобы закончить ввод, введите 0: 5\n",
            "Введите число. Чтобы закончить ввод, введите 0: 6\n",
            "Введите число. Чтобы закончить ввод, введите 0: 7\n",
            "Введите число. Чтобы закончить ввод, введите 0: 8\n",
            "Введите число. Чтобы закончить ввод, введите 0: 0\n",
            "[5.0, 6.0, 7.0, 8.0] 4\n",
            "Введите действие(1-6): 6\n",
            "четных чисел: 2 нечетных чисел: 2\n"
          ]
        }
      ]
    },
    {
      "cell_type": "markdown",
      "metadata": {
        "id": "6gTD9FGkcjwV"
      },
      "source": [
        "# Домашнее задание (дополнительное):"
      ]
    },
    {
      "cell_type": "markdown",
      "metadata": {
        "id": "0V0QouN3cjwV"
      },
      "source": [
        "# Задание. \"Без всяких условностей\" "
      ]
    },
    {
      "cell_type": "markdown",
      "metadata": {
        "id": "ql4h1oRecjwW"
      },
      "source": [
        "Напишите программу, которая принимает два целых числа A и B и выводит наибольшее значение из них. \n",
        "\n",
        "При решении задачи можно пользоваться только целочисленными арифметическими операциями. Нельзя пользоваться нелинейными конструкциями: ветвлениями, циклами, функциями."
      ]
    },
    {
      "cell_type": "code",
      "metadata": {
        "id": "rq429FomcjwW",
        "colab": {
          "base_uri": "https://localhost:8080/"
        },
        "outputId": "d34e99ea-8d74-40d6-b85c-dea6581a6bbd"
      },
      "source": [
        "a = 10\n",
        "b = 5\n",
        "\n",
        "print( 'Наибольшее число (если 0 - наибольшее a, если 1 - a = b, другое - b): ', int(b/a) )"
      ],
      "execution_count": null,
      "outputs": [
        {
          "output_type": "stream",
          "name": "stdout",
          "text": [
            "Наибольшее число (0 - a, другое - b):  0\n"
          ]
        }
      ]
    },
    {
      "cell_type": "markdown",
      "metadata": {
        "id": "IXblnpM_cjwW"
      },
      "source": [
        "# Задание. \"Котлеты\" "
      ]
    },
    {
      "cell_type": "markdown",
      "metadata": {
        "id": "EEPFo2L9cjwW"
      },
      "source": [
        "На сковородку одновременно можно положить k котлет. Каждую котлету нужно с каждой стороны обжаривать m минут непрерывно. За какое наименьшее время удастся поджарить с обеих сторон n котлет?\n",
        "Программа получает на вход три числа: k,m,n. И выводит одно число: наименьшее количество минут."
      ]
    },
    {
      "cell_type": "code",
      "metadata": {
        "id": "8FrSOyJVcjwW",
        "colab": {
          "base_uri": "https://localhost:8080/"
        },
        "outputId": "cd8a493f-eb82-486f-c4d1-200df13e437c"
      },
      "source": [
        "k = 5\n",
        "t = 5\n",
        "n = 12\n",
        "\n",
        "total_t = 0\n",
        "while(n > 0):\n",
        "  n = n - k\n",
        "  total_t += t\n",
        "\n",
        "print(total_t)"
      ],
      "execution_count": null,
      "outputs": [
        {
          "output_type": "stream",
          "name": "stdout",
          "text": [
            "15\n"
          ]
        }
      ]
    },
    {
      "cell_type": "markdown",
      "metadata": {
        "id": "TfMQ6XKycjwX"
      },
      "source": [
        "# Задание. \"Угадай число\""
      ]
    },
    {
      "cell_type": "markdown",
      "metadata": {
        "id": "gLAtoqNxcjwX"
      },
      "source": [
        "Пользователь загадывает число от 1 до N. Программа запрашивает у пользователя N. Требуется отгадать загаданное число, задав как можно меньше вопросов. (Обычно подобные задачи решают с помощью цикла)."
      ]
    },
    {
      "cell_type": "code",
      "metadata": {
        "id": "ACjrH1WxcjwX",
        "colab": {
          "base_uri": "https://localhost:8080/"
        },
        "outputId": "e30ff894-58de-4b56-c2eb-635e9afd2ff4"
      },
      "source": [
        "N = 100\n",
        "n = 25\n",
        "\n",
        "sum_iter = 0\n",
        "N += 1\n",
        "while(True):\n",
        "\n",
        "  sum_iter += 1\n",
        "\n",
        "  if N//2 < n:\n",
        "    N +=  N//4\n",
        "  \n",
        "  elif N//2 > n:\n",
        "    N -= N//4\n",
        "  \n",
        "  else:\n",
        "    print(N//2)\n",
        "    break\n",
        "\n",
        "print(sum_iter)"
      ],
      "execution_count": null,
      "outputs": [
        {
          "output_type": "stream",
          "name": "stdout",
          "text": [
            "25\n",
            "7\n"
          ]
        }
      ]
    }
  ]
}